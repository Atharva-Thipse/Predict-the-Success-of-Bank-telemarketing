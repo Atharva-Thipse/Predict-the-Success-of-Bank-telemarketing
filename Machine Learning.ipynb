{
 "cells": [
  {
   "cell_type": "markdown",
   "id": "de504020",
   "metadata": {
    "papermill": {
     "duration": 0.010004,
     "end_time": "2024-11-30T06:17:18.329793",
     "exception": false,
     "start_time": "2024-11-30T06:17:18.319789",
     "status": "completed"
    },
    "tags": []
   },
   "source": [
    "## Load the Libraries"
   ]
  },
  {
   "cell_type": "code",
   "execution_count": 1,
   "id": "1c9a750c",
   "metadata": {
    "_cell_guid": "b1076dfc-b9ad-4769-8c92-a6c4dae69d19",
    "_uuid": "8f2839f25d086af736a60e9eeb907d3b93b6e0e5",
    "execution": {
     "iopub.execute_input": "2024-11-30T06:17:18.350016Z",
     "iopub.status.busy": "2024-11-30T06:17:18.349563Z",
     "iopub.status.idle": "2024-11-30T06:17:21.659910Z",
     "shell.execute_reply": "2024-11-30T06:17:21.658934Z"
    },
    "papermill": {
     "duration": 3.322755,
     "end_time": "2024-11-30T06:17:21.662319",
     "exception": false,
     "start_time": "2024-11-30T06:17:18.339564",
     "status": "completed"
    },
    "tags": []
   },
   "outputs": [
    {
     "name": "stdout",
     "output_type": "stream",
     "text": [
      "/kaggle/input/predict-the-success-of-bank-telemarketing/sample_submission.csv\n",
      "/kaggle/input/predict-the-success-of-bank-telemarketing/train.csv\n",
      "/kaggle/input/predict-the-success-of-bank-telemarketing/test.csv\n"
     ]
    }
   ],
   "source": [
    "# This Python 3 environment comes with many helpful analytics libraries installed\n",
    "# It is defined by the kaggle/python Docker image: https://github.com/kaggle/docker-python\n",
    "# For example, here's several helpful packages to load\n",
    "\n",
    "import numpy as np\n",
    "import pandas as pd\n",
    "import matplotlib.pyplot as plt\n",
    "import seaborn as sns\n",
    "from sklearn.compose import ColumnTransformer\n",
    "from sklearn.pipeline import Pipeline\n",
    "from sklearn.experimental import enable_iterative_imputer\n",
    "from sklearn.impute import SimpleImputer, IterativeImputer\n",
    "from sklearn.preprocessing import OrdinalEncoder, StandardScaler, MinMaxScaler\n",
    "from sklearn.linear_model import LogisticRegression\n",
    "from sklearn.ensemble import RandomForestClassifier\n",
    "from sklearn.neighbors import KNeighborsClassifier\n",
    "from sklearn.metrics import classification_report, confusion_matrix\n",
    "from sklearn.model_selection import train_test_split, GridSearchCV\n",
    "from sklearn.feature_selection import RFE\n",
    "from imblearn.combine import SMOTEENN\n",
    "from sklearn.ensemble import AdaBoostClassifier\n",
    "\n",
    "# Input data files are available in the read-only \"../input/\" directory\n",
    "# For example, running this (by clicking run or pressing Shift+Enter) will list all files under the input directory\n",
    "\n",
    "import os\n",
    "for dirname, _, filenames in os.walk('/kaggle/input'):\n",
    "    for filename in filenames:\n",
    "        print(os.path.join(dirname, filename))\n",
    "\n",
    "# You can write up to 20GB to the current directory (/kaggle/working/) that gets preserved as output when you create a version using \"Save & Run All\" \n",
    "# You can also write temporary files to /kaggle/temp/, but they won't be saved outside of the current session"
   ]
  },
  {
   "cell_type": "markdown",
   "id": "934dac8c",
   "metadata": {
    "papermill": {
     "duration": 0.009282,
     "end_time": "2024-11-30T06:17:21.680629",
     "exception": false,
     "start_time": "2024-11-30T06:17:21.671347",
     "status": "completed"
    },
    "tags": []
   },
   "source": [
    "## Load the Datasets"
   ]
  },
  {
   "cell_type": "code",
   "execution_count": 2,
   "id": "0c2f1ee6",
   "metadata": {
    "execution": {
     "iopub.execute_input": "2024-11-30T06:17:21.699807Z",
     "iopub.status.busy": "2024-11-30T06:17:21.699300Z",
     "iopub.status.idle": "2024-11-30T06:17:21.891234Z",
     "shell.execute_reply": "2024-11-30T06:17:21.890169Z"
    },
    "papermill": {
     "duration": 0.20462,
     "end_time": "2024-11-30T06:17:21.893930",
     "exception": false,
     "start_time": "2024-11-30T06:17:21.689310",
     "status": "completed"
    },
    "tags": []
   },
   "outputs": [],
   "source": [
    "# Load the datasets\n",
    "train = pd.read_csv('/kaggle/input/predict-the-success-of-bank-telemarketing/train.csv')\n",
    "test = pd.read_csv('/kaggle/input/predict-the-success-of-bank-telemarketing/test.csv')"
   ]
  },
  {
   "cell_type": "markdown",
   "id": "ac59d4bb",
   "metadata": {
    "papermill": {
     "duration": 0.009639,
     "end_time": "2024-11-30T06:17:21.912966",
     "exception": false,
     "start_time": "2024-11-30T06:17:21.903327",
     "status": "completed"
    },
    "tags": []
   },
   "source": [
    "### Unique Values"
   ]
  },
  {
   "cell_type": "code",
   "execution_count": null,
   "id": "23789702",
   "metadata": {
    "execution": {
     "iopub.execute_input": "2024-11-30T06:17:21.932076Z",
     "iopub.status.busy": "2024-11-30T06:17:21.931731Z",
     "iopub.status.idle": "2024-11-30T06:17:21.936229Z",
     "shell.execute_reply": "2024-11-30T06:17:21.935179Z"
    },
    "papermill": {
     "duration": 0.016562,
     "end_time": "2024-11-30T06:17:21.938354",
     "exception": false,
     "start_time": "2024-11-30T06:17:21.921792",
     "status": "completed"
    },
    "tags": []
   },
   "outputs": [],
   "source": [
    "for feature in train.columns:\n",
    "    print(feature,\":\", train[feature].nunique())"
   ]
  },
  {
   "cell_type": "markdown",
   "id": "1d3afec6",
   "metadata": {
    "papermill": {
     "duration": 0.008337,
     "end_time": "2024-11-30T06:17:21.955463",
     "exception": false,
     "start_time": "2024-11-30T06:17:21.947126",
     "status": "completed"
    },
    "tags": []
   },
   "source": [
    "### Missing Values"
   ]
  },
  {
   "cell_type": "code",
   "execution_count": 4,
   "id": "bb87282e",
   "metadata": {
    "execution": {
     "iopub.execute_input": "2024-11-30T06:17:21.974399Z",
     "iopub.status.busy": "2024-11-30T06:17:21.973985Z",
     "iopub.status.idle": "2024-11-30T06:17:22.004735Z",
     "shell.execute_reply": "2024-11-30T06:17:22.003729Z"
    },
    "papermill": {
     "duration": 0.042832,
     "end_time": "2024-11-30T06:17:22.007074",
     "exception": false,
     "start_time": "2024-11-30T06:17:21.964242",
     "status": "completed"
    },
    "tags": []
   },
   "outputs": [],
   "source": [
    "train[['education', 'contact', 'poutcome']] = train[['education', 'contact', 'poutcome']].replace(\"unknown\", np.nan)\n",
    "train['pdays'] = train['pdays'].replace(-1, np.nan)"
   ]
  },
  {
   "cell_type": "code",
   "execution_count": null,
   "id": "40ec2dfe",
   "metadata": {
    "execution": {
     "iopub.execute_input": "2024-11-30T06:17:22.026289Z",
     "iopub.status.busy": "2024-11-30T06:17:22.025901Z",
     "iopub.status.idle": "2024-11-30T06:17:22.030256Z",
     "shell.execute_reply": "2024-11-30T06:17:22.029178Z"
    },
    "papermill": {
     "duration": 0.016375,
     "end_time": "2024-11-30T06:17:22.032300",
     "exception": false,
     "start_time": "2024-11-30T06:17:22.015925",
     "status": "completed"
    },
    "tags": []
   },
   "outputs": [],
   "source": [
    "train.isna().sum() * 100 / len(train)"
   ]
  },
  {
   "cell_type": "code",
   "execution_count": 6,
   "id": "b445e5d1",
   "metadata": {
    "execution": {
     "iopub.execute_input": "2024-11-30T06:17:22.051575Z",
     "iopub.status.busy": "2024-11-30T06:17:22.051185Z",
     "iopub.status.idle": "2024-11-30T06:17:22.061949Z",
     "shell.execute_reply": "2024-11-30T06:17:22.060911Z"
    },
    "papermill": {
     "duration": 0.022906,
     "end_time": "2024-11-30T06:17:22.064066",
     "exception": false,
     "start_time": "2024-11-30T06:17:22.041160",
     "status": "completed"
    },
    "tags": []
   },
   "outputs": [],
   "source": [
    "test[['education', 'contact', 'poutcome']] = test[['education', 'contact', 'poutcome']].replace(\"unknown\", np.nan)\n",
    "test['pdays'] = test['pdays'].replace(-1, np.nan)"
   ]
  },
  {
   "cell_type": "code",
   "execution_count": null,
   "id": "680075c3",
   "metadata": {
    "execution": {
     "iopub.execute_input": "2024-11-30T06:17:22.082903Z",
     "iopub.status.busy": "2024-11-30T06:17:22.082536Z",
     "iopub.status.idle": "2024-11-30T06:17:22.087400Z",
     "shell.execute_reply": "2024-11-30T06:17:22.086153Z"
    },
    "papermill": {
     "duration": 0.016648,
     "end_time": "2024-11-30T06:17:22.089417",
     "exception": false,
     "start_time": "2024-11-30T06:17:22.072769",
     "status": "completed"
    },
    "tags": []
   },
   "outputs": [],
   "source": [
    "test.isna().sum() * 100 / len(test)"
   ]
  },
  {
   "cell_type": "code",
   "execution_count": 8,
   "id": "9fce62d0",
   "metadata": {
    "execution": {
     "iopub.execute_input": "2024-11-30T06:17:22.108509Z",
     "iopub.status.busy": "2024-11-30T06:17:22.108116Z",
     "iopub.status.idle": "2024-11-30T06:17:22.114319Z",
     "shell.execute_reply": "2024-11-30T06:17:22.113378Z"
    },
    "papermill": {
     "duration": 0.018276,
     "end_time": "2024-11-30T06:17:22.116312",
     "exception": false,
     "start_time": "2024-11-30T06:17:22.098036",
     "status": "completed"
    },
    "tags": []
   },
   "outputs": [],
   "source": [
    "# Calculate the maximum balance value from the training dataset\n",
    "max_balance = train['balance'].max()\n",
    "\n",
    "# Define the thresholds for the categories\n",
    "threshold1 = max_balance / 3\n",
    "threshold2 = 2 * threshold1\n",
    "\n",
    "# Function to categorize balance\n",
    "def categorize_balance(balance):\n",
    "    if balance < 0:\n",
    "        return 'In Debt'\n",
    "    elif 0 <= balance < threshold1:\n",
    "        return 'Poor'\n",
    "    elif threshold1 <= balance < threshold2:\n",
    "        return 'Middle Class'\n",
    "    else:\n",
    "        return 'Rich'"
   ]
  },
  {
   "cell_type": "code",
   "execution_count": 9,
   "id": "7a7ae67b",
   "metadata": {
    "execution": {
     "iopub.execute_input": "2024-11-30T06:17:22.135312Z",
     "iopub.status.busy": "2024-11-30T06:17:22.134933Z",
     "iopub.status.idle": "2024-11-30T06:17:22.208991Z",
     "shell.execute_reply": "2024-11-30T06:17:22.207926Z"
    },
    "papermill": {
     "duration": 0.08617,
     "end_time": "2024-11-30T06:17:22.211442",
     "exception": false,
     "start_time": "2024-11-30T06:17:22.125272",
     "status": "completed"
    },
    "tags": []
   },
   "outputs": [],
   "source": [
    "# Converting the 'last contact date' column to datetime\n",
    "train['last contact date'] = pd.to_datetime(train['last contact date'])\n",
    "\n",
    "# Extracting components from the 'last contact date'\n",
    "train['last_contact_year'] = train['last contact date'].dt.year\n",
    "train['last_contact_month'] = train['last contact date'].dt.month\n",
    "train['last_contact_day'] = train['last contact date'].dt.day\n",
    "train['day_of_week'] = train['last contact date'].dt.dayofweek\n",
    "train['is_weekend'] = train['day_of_week'].apply(lambda x: 1 if x >= 5 else 0)\n",
    "train['quarter'] = train['last contact date'].dt.quarter\n",
    "train['balance_category'] = train['balance'].apply(categorize_balance)\n",
    "\n",
    "# Drop 'last contact date' as it's no longer needed, and 'poutcome' and 'pdays' as it has more that 75% of missing data\n",
    "train.drop(['last contact date', 'poutcome', 'pdays'], axis=1, inplace=True)"
   ]
  },
  {
   "cell_type": "code",
   "execution_count": 10,
   "id": "fd7a64f1",
   "metadata": {
    "execution": {
     "iopub.execute_input": "2024-11-30T06:17:22.231034Z",
     "iopub.status.busy": "2024-11-30T06:17:22.230650Z",
     "iopub.status.idle": "2024-11-30T06:17:22.256617Z",
     "shell.execute_reply": "2024-11-30T06:17:22.255481Z"
    },
    "papermill": {
     "duration": 0.038558,
     "end_time": "2024-11-30T06:17:22.259059",
     "exception": false,
     "start_time": "2024-11-30T06:17:22.220501",
     "status": "completed"
    },
    "tags": []
   },
   "outputs": [],
   "source": [
    "# Preprocess the test dataset (apply the same preprocessing steps)\n",
    "test['last contact date'] = pd.to_datetime(test['last contact date'])\n",
    "\n",
    "test['last_contact_year'] = test['last contact date'].dt.year\n",
    "test['last_contact_month'] = test['last contact date'].dt.month\n",
    "test['last_contact_day'] = test['last contact date'].dt.day\n",
    "test['day_of_week'] = test['last contact date'].dt.dayofweek\n",
    "test['is_weekend'] = test['day_of_week'].apply(lambda x: 1 if x >= 5 else 0)\n",
    "test['quarter'] = test['last contact date'].dt.quarter\n",
    "test['balance_category'] = test['balance'].apply(categorize_balance)\n",
    "\n",
    "# Drop the 'last contact date', 'poutcome' and 'pdays' from test\n",
    "test.drop(['last contact date', 'poutcome', 'pdays'], axis=1, inplace=True)"
   ]
  },
  {
   "cell_type": "markdown",
   "id": "e7ac6fa6",
   "metadata": {
    "papermill": {
     "duration": 0.008342,
     "end_time": "2024-11-30T06:17:22.276208",
     "exception": false,
     "start_time": "2024-11-30T06:17:22.267866",
     "status": "completed"
    },
    "tags": []
   },
   "source": [
    "## EDA"
   ]
  },
  {
   "cell_type": "code",
   "execution_count": null,
   "id": "208e6a92",
   "metadata": {
    "execution": {
     "iopub.execute_input": "2024-11-30T06:17:22.294901Z",
     "iopub.status.busy": "2024-11-30T06:17:22.294477Z",
     "iopub.status.idle": "2024-11-30T06:17:22.299053Z",
     "shell.execute_reply": "2024-11-30T06:17:22.298065Z"
    },
    "papermill": {
     "duration": 0.016349,
     "end_time": "2024-11-30T06:17:22.301016",
     "exception": false,
     "start_time": "2024-11-30T06:17:22.284667",
     "status": "completed"
    },
    "tags": []
   },
   "outputs": [],
   "source": [
    "train.head()"
   ]
  },
  {
   "cell_type": "code",
   "execution_count": null,
   "id": "9741efdd",
   "metadata": {
    "execution": {
     "iopub.execute_input": "2024-11-30T06:17:22.320170Z",
     "iopub.status.busy": "2024-11-30T06:17:22.319757Z",
     "iopub.status.idle": "2024-11-30T06:17:22.324234Z",
     "shell.execute_reply": "2024-11-30T06:17:22.323232Z"
    },
    "papermill": {
     "duration": 0.016495,
     "end_time": "2024-11-30T06:17:22.326175",
     "exception": false,
     "start_time": "2024-11-30T06:17:22.309680",
     "status": "completed"
    },
    "tags": []
   },
   "outputs": [],
   "source": [
    "print(train.shape)\n",
    "print(test.shape)"
   ]
  },
  {
   "cell_type": "code",
   "execution_count": null,
   "id": "a7d91269",
   "metadata": {
    "execution": {
     "iopub.execute_input": "2024-11-30T06:17:22.344987Z",
     "iopub.status.busy": "2024-11-30T06:17:22.344656Z",
     "iopub.status.idle": "2024-11-30T06:17:22.349582Z",
     "shell.execute_reply": "2024-11-30T06:17:22.348661Z"
    },
    "papermill": {
     "duration": 0.017093,
     "end_time": "2024-11-30T06:17:22.351894",
     "exception": false,
     "start_time": "2024-11-30T06:17:22.334801",
     "status": "completed"
    },
    "tags": []
   },
   "outputs": [],
   "source": [
    "train.info()"
   ]
  },
  {
   "cell_type": "code",
   "execution_count": null,
   "id": "7c0c7a8b",
   "metadata": {
    "execution": {
     "iopub.execute_input": "2024-11-30T06:17:22.371262Z",
     "iopub.status.busy": "2024-11-30T06:17:22.370869Z",
     "iopub.status.idle": "2024-11-30T06:17:22.375269Z",
     "shell.execute_reply": "2024-11-30T06:17:22.374260Z"
    },
    "papermill": {
     "duration": 0.016789,
     "end_time": "2024-11-30T06:17:22.377417",
     "exception": false,
     "start_time": "2024-11-30T06:17:22.360628",
     "status": "completed"
    },
    "tags": []
   },
   "outputs": [],
   "source": [
    "train.describe()"
   ]
  },
  {
   "cell_type": "code",
   "execution_count": null,
   "id": "fa703f38",
   "metadata": {
    "execution": {
     "iopub.execute_input": "2024-11-30T06:17:22.396668Z",
     "iopub.status.busy": "2024-11-30T06:17:22.396285Z",
     "iopub.status.idle": "2024-11-30T06:17:22.401349Z",
     "shell.execute_reply": "2024-11-30T06:17:22.400194Z"
    },
    "papermill": {
     "duration": 0.017284,
     "end_time": "2024-11-30T06:17:22.403509",
     "exception": false,
     "start_time": "2024-11-30T06:17:22.386225",
     "status": "completed"
    },
    "tags": []
   },
   "outputs": [],
   "source": [
    "train.describe(include = ['object'])"
   ]
  },
  {
   "cell_type": "code",
   "execution_count": null,
   "id": "50aa022f",
   "metadata": {
    "execution": {
     "iopub.execute_input": "2024-11-30T06:17:22.422501Z",
     "iopub.status.busy": "2024-11-30T06:17:22.422159Z",
     "iopub.status.idle": "2024-11-30T06:17:22.426605Z",
     "shell.execute_reply": "2024-11-30T06:17:22.425520Z"
    },
    "papermill": {
     "duration": 0.016153,
     "end_time": "2024-11-30T06:17:22.428578",
     "exception": false,
     "start_time": "2024-11-30T06:17:22.412425",
     "status": "completed"
    },
    "tags": []
   },
   "outputs": [],
   "source": [
    "train['target'].value_counts()"
   ]
  },
  {
   "cell_type": "code",
   "execution_count": null,
   "id": "796dd14c",
   "metadata": {
    "execution": {
     "iopub.execute_input": "2024-11-30T06:17:22.448284Z",
     "iopub.status.busy": "2024-11-30T06:17:22.447016Z",
     "iopub.status.idle": "2024-11-30T06:17:22.451828Z",
     "shell.execute_reply": "2024-11-30T06:17:22.450803Z"
    },
    "papermill": {
     "duration": 0.016536,
     "end_time": "2024-11-30T06:17:22.453780",
     "exception": false,
     "start_time": "2024-11-30T06:17:22.437244",
     "status": "completed"
    },
    "tags": []
   },
   "outputs": [],
   "source": [
    "train['is_weekend'].value_counts()"
   ]
  },
  {
   "cell_type": "code",
   "execution_count": null,
   "id": "03ea80a8",
   "metadata": {
    "execution": {
     "iopub.execute_input": "2024-11-30T06:17:22.472547Z",
     "iopub.status.busy": "2024-11-30T06:17:22.472191Z",
     "iopub.status.idle": "2024-11-30T06:17:22.476751Z",
     "shell.execute_reply": "2024-11-30T06:17:22.475672Z"
    },
    "papermill": {
     "duration": 0.016304,
     "end_time": "2024-11-30T06:17:22.478748",
     "exception": false,
     "start_time": "2024-11-30T06:17:22.462444",
     "status": "completed"
    },
    "tags": []
   },
   "outputs": [],
   "source": [
    "train['quarter'].value_counts()"
   ]
  },
  {
   "cell_type": "code",
   "execution_count": null,
   "id": "4ffdadd2",
   "metadata": {
    "execution": {
     "iopub.execute_input": "2024-11-30T06:17:22.498664Z",
     "iopub.status.busy": "2024-11-30T06:17:22.497653Z",
     "iopub.status.idle": "2024-11-30T06:17:22.502133Z",
     "shell.execute_reply": "2024-11-30T06:17:22.501126Z"
    },
    "papermill": {
     "duration": 0.016441,
     "end_time": "2024-11-30T06:17:22.504188",
     "exception": false,
     "start_time": "2024-11-30T06:17:22.487747",
     "status": "completed"
    },
    "tags": []
   },
   "outputs": [],
   "source": [
    "ax = sns.histplot(train, x=\"age\")\n",
    "ax.set_xlabel('Age')\n",
    "ax.set_ylabel('Distribution')\n",
    "ax.set_title('Distribution of Age')"
   ]
  },
  {
   "cell_type": "code",
   "execution_count": null,
   "id": "dfe480ca",
   "metadata": {
    "execution": {
     "iopub.execute_input": "2024-11-30T06:17:22.523338Z",
     "iopub.status.busy": "2024-11-30T06:17:22.522948Z",
     "iopub.status.idle": "2024-11-30T06:17:22.527733Z",
     "shell.execute_reply": "2024-11-30T06:17:22.526644Z"
    },
    "papermill": {
     "duration": 0.016852,
     "end_time": "2024-11-30T06:17:22.529785",
     "exception": false,
     "start_time": "2024-11-30T06:17:22.512933",
     "status": "completed"
    },
    "tags": []
   },
   "outputs": [],
   "source": [
    "ax = sns.histplot(train, x=\"last_contact_month\")\n",
    "ax.set_xlabel('Month')\n",
    "ax.set_ylabel('Distribution')\n",
    "ax.set_title('Distribution of Last Contact Month')"
   ]
  },
  {
   "cell_type": "code",
   "execution_count": null,
   "id": "96c838df",
   "metadata": {
    "execution": {
     "iopub.execute_input": "2024-11-30T06:17:22.549076Z",
     "iopub.status.busy": "2024-11-30T06:17:22.548221Z",
     "iopub.status.idle": "2024-11-30T06:17:22.552583Z",
     "shell.execute_reply": "2024-11-30T06:17:22.551507Z"
    },
    "papermill": {
     "duration": 0.016236,
     "end_time": "2024-11-30T06:17:22.554705",
     "exception": false,
     "start_time": "2024-11-30T06:17:22.538469",
     "status": "completed"
    },
    "tags": []
   },
   "outputs": [],
   "source": [
    "ax = sns.histplot(train, x=\"balance_category\", hue=\"target\")\n",
    "ax.set_xlabel('Social ')\n",
    "ax.set_ylabel('Distribution')\n",
    "ax.set_title('Distribution of Social Class')"
   ]
  },
  {
   "cell_type": "markdown",
   "id": "0f97285f",
   "metadata": {
    "papermill": {
     "duration": 0.008461,
     "end_time": "2024-11-30T06:17:22.571832",
     "exception": false,
     "start_time": "2024-11-30T06:17:22.563371",
     "status": "completed"
    },
    "tags": []
   },
   "source": [
    "# Inferences\n",
    "The DataSet is **Highly Imbalanced**.\n",
    "\n",
    "- Customer is contacted on Weekdays.\n",
    "- Banks contact their customers mostly in 2nd Quarter and 3rd Quarter.\n",
    "- Most of the calls are done in May.\n",
    "- Customer's age group is right skewed. Most of them age from 30-40.\n",
    "- Customers who has credit in default are low in number but also has high chance to subscribe a term deposit.\n",
    "- The mean of contacts performed previously is about 11.8 with a standard deviation of 44.14 shows that most people received very few contacts, but a small number received significantly more (up to 275).\n",
    "- Almost all middle class and rich class people have subscibed and people with debt are not subscribing for term deposit.\n",
    "- Columns duration, balance, campaign and previous are positively correlated to each other."
   ]
  },
  {
   "cell_type": "markdown",
   "id": "f389d443",
   "metadata": {
    "papermill": {
     "duration": 0.008385,
     "end_time": "2024-11-30T06:17:22.588826",
     "exception": false,
     "start_time": "2024-11-30T06:17:22.580441",
     "status": "completed"
    },
    "tags": []
   },
   "source": [
    "## Preprocessing"
   ]
  },
  {
   "cell_type": "code",
   "execution_count": 22,
   "id": "c4942274",
   "metadata": {
    "execution": {
     "iopub.execute_input": "2024-11-30T06:17:22.607855Z",
     "iopub.status.busy": "2024-11-30T06:17:22.607508Z",
     "iopub.status.idle": "2024-11-30T06:17:22.623356Z",
     "shell.execute_reply": "2024-11-30T06:17:22.622316Z"
    },
    "papermill": {
     "duration": 0.027954,
     "end_time": "2024-11-30T06:17:22.625675",
     "exception": false,
     "start_time": "2024-11-30T06:17:22.597721",
     "status": "completed"
    },
    "tags": []
   },
   "outputs": [],
   "source": [
    "# Separate the target column\n",
    "y = train.target.copy()\n",
    "\n",
    "# Encode the target column separately (yes/no -> 1/0)\n",
    "target_mapping = {'yes': 1, 'no': 0}\n",
    "y = y.map(target_mapping)\n",
    "\n",
    "X = train.drop('target', axis=1)"
   ]
  },
  {
   "cell_type": "markdown",
   "id": "477d5f2e",
   "metadata": {
    "papermill": {
     "duration": 0.009309,
     "end_time": "2024-11-30T06:17:22.644163",
     "exception": false,
     "start_time": "2024-11-30T06:17:22.634854",
     "status": "completed"
    },
    "tags": []
   },
   "source": [
    "Split the data into **Training & Validation**"
   ]
  },
  {
   "cell_type": "code",
   "execution_count": 23,
   "id": "d62b91dc",
   "metadata": {
    "execution": {
     "iopub.execute_input": "2024-11-30T06:17:22.664354Z",
     "iopub.status.busy": "2024-11-30T06:17:22.663299Z",
     "iopub.status.idle": "2024-11-30T06:17:22.668186Z",
     "shell.execute_reply": "2024-11-30T06:17:22.667010Z"
    },
    "papermill": {
     "duration": 0.017066,
     "end_time": "2024-11-30T06:17:22.670195",
     "exception": false,
     "start_time": "2024-11-30T06:17:22.653129",
     "status": "completed"
    },
    "tags": []
   },
   "outputs": [],
   "source": [
    "# X_train, X_val, y_train, y_val = train_test_split(X, y, train_size=0.80, random_state=42)"
   ]
  },
  {
   "cell_type": "code",
   "execution_count": 24,
   "id": "4592729a",
   "metadata": {
    "execution": {
     "iopub.execute_input": "2024-11-30T06:17:22.689272Z",
     "iopub.status.busy": "2024-11-30T06:17:22.688873Z",
     "iopub.status.idle": "2024-11-30T06:17:22.695372Z",
     "shell.execute_reply": "2024-11-30T06:17:22.694172Z"
    },
    "papermill": {
     "duration": 0.018407,
     "end_time": "2024-11-30T06:17:22.697367",
     "exception": false,
     "start_time": "2024-11-30T06:17:22.678960",
     "status": "completed"
    },
    "tags": []
   },
   "outputs": [],
   "source": [
    "# Columns to apply OrdinalEncoder\n",
    "categorical_cols = ['job', 'marital', 'education', 'default', 'housing', 'loan', 'contact', 'last_contact_year',\n",
    "                    'last_contact_month', 'last_contact_day', 'day_of_week', 'is_weekend', 'quarter', 'balance_category']\n",
    "\n",
    "preprocessor = ColumnTransformer(transformers=[\n",
    "    ('num_standard', Pipeline([\n",
    "        ('scaler', StandardScaler())\n",
    "    ]), ['age', 'duration', 'balance']),\n",
    "    \n",
    "    ('num_counts', Pipeline([\n",
    "        ('scaler', MinMaxScaler())\n",
    "    ]), ['campaign', 'previous']),\n",
    "    \n",
    "    # OrdinalEncoder for categorical features\n",
    "    ('cat', Pipeline([\n",
    "        ('encoder', OrdinalEncoder()),\n",
    "        ('imputer', IterativeImputer(initial_strategy=\"constant\"))\n",
    "    ]), categorical_cols)\n",
    "]).set_output(transform='pandas')"
   ]
  },
  {
   "cell_type": "code",
   "execution_count": 25,
   "id": "e2cd1094",
   "metadata": {
    "execution": {
     "iopub.execute_input": "2024-11-30T06:17:22.716111Z",
     "iopub.status.busy": "2024-11-30T06:17:22.715715Z",
     "iopub.status.idle": "2024-11-30T06:17:22.721594Z",
     "shell.execute_reply": "2024-11-30T06:17:22.719573Z"
    },
    "papermill": {
     "duration": 0.017821,
     "end_time": "2024-11-30T06:17:22.723738",
     "exception": false,
     "start_time": "2024-11-30T06:17:22.705917",
     "status": "completed"
    },
    "tags": []
   },
   "outputs": [],
   "source": [
    "# X_train_processed = preprocessor.fit_transform(X_train)\n",
    "# X_val_processed = preprocessor.transform(X_val)"
   ]
  },
  {
   "cell_type": "code",
   "execution_count": 26,
   "id": "f9d2f42e",
   "metadata": {
    "execution": {
     "iopub.execute_input": "2024-11-30T06:17:22.743036Z",
     "iopub.status.busy": "2024-11-30T06:17:22.742581Z",
     "iopub.status.idle": "2024-11-30T06:17:22.747331Z",
     "shell.execute_reply": "2024-11-30T06:17:22.746114Z"
    },
    "papermill": {
     "duration": 0.016627,
     "end_time": "2024-11-30T06:17:22.749299",
     "exception": false,
     "start_time": "2024-11-30T06:17:22.732672",
     "status": "completed"
    },
    "tags": []
   },
   "outputs": [],
   "source": [
    "# X_train_processed.corr()"
   ]
  },
  {
   "cell_type": "code",
   "execution_count": 27,
   "id": "d1bf3734",
   "metadata": {
    "execution": {
     "iopub.execute_input": "2024-11-30T06:17:22.768032Z",
     "iopub.status.busy": "2024-11-30T06:17:22.767692Z",
     "iopub.status.idle": "2024-11-30T06:17:22.772282Z",
     "shell.execute_reply": "2024-11-30T06:17:22.771167Z"
    },
    "papermill": {
     "duration": 0.016465,
     "end_time": "2024-11-30T06:17:22.774403",
     "exception": false,
     "start_time": "2024-11-30T06:17:22.757938",
     "status": "completed"
    },
    "tags": []
   },
   "outputs": [],
   "source": [
    "# # Apply SMOTE to balance the class distribution\n",
    "# smote = SMOTEENN(random_state=42)\n",
    "# X_train_smote, y_train_smote = smote.fit_resample(X_train_processed, y_train)"
   ]
  },
  {
   "cell_type": "code",
   "execution_count": 28,
   "id": "45d44d8e",
   "metadata": {
    "execution": {
     "iopub.execute_input": "2024-11-30T06:17:22.793333Z",
     "iopub.status.busy": "2024-11-30T06:17:22.792918Z",
     "iopub.status.idle": "2024-11-30T06:17:22.798163Z",
     "shell.execute_reply": "2024-11-30T06:17:22.797085Z"
    },
    "papermill": {
     "duration": 0.01701,
     "end_time": "2024-11-30T06:17:22.800201",
     "exception": false,
     "start_time": "2024-11-30T06:17:22.783191",
     "status": "completed"
    },
    "tags": []
   },
   "outputs": [],
   "source": [
    "# # Define the RandomForestClassifier with class_weight='balanced'\n",
    "# rf_balanced = RandomForestClassifier(\n",
    "#     n_estimators=200,         # Number of trees\n",
    "#     class_weight='balanced',  # Handle class imbalance\n",
    "#     random_state=42,          # Reproducibility\n",
    "#     max_depth=20,             # Limit the depth of each tree (regularization)\n",
    "# )\n",
    "\n",
    "# # Perform Recursive Feature Elimination (RFE)\n",
    "# rfe = RFE(estimator=rf_balanced, n_features_to_select=15)\n",
    "\n",
    "# # Fit and transform the training data\n",
    "# X_train_rfe = rfe.fit_transform(X_train_smote, y_train_smote)\n",
    "\n",
    "# # Transform the validation data\n",
    "# X_val_rfe = rfe.transform(X_val_processed)\n",
    "\n",
    "# # Wrap Random Forest with AdaBoost\n",
    "# ada_rf = AdaBoostClassifier(\n",
    "#     base_estimator=rf_balanced,  # Use the Random Forest model\n",
    "#     n_estimators=50,            # Number of boosting stages\n",
    "#     learning_rate=0.1,          # Controls the contribution of each model\n",
    "#     random_state=42\n",
    "# )\n",
    "\n",
    "# # Fit the model with the reduced features and data subset\n",
    "# ada_rf.fit(X_train_rfe, y_train_smote)\n",
    "# rf_predictions = ada_rf.predict(X_val_rfe)"
   ]
  },
  {
   "cell_type": "code",
   "execution_count": 29,
   "id": "46a3d662",
   "metadata": {
    "execution": {
     "iopub.execute_input": "2024-11-30T06:17:22.820220Z",
     "iopub.status.busy": "2024-11-30T06:17:22.819665Z",
     "iopub.status.idle": "2024-11-30T06:17:22.825033Z",
     "shell.execute_reply": "2024-11-30T06:17:22.823956Z"
    },
    "papermill": {
     "duration": 0.01793,
     "end_time": "2024-11-30T06:17:22.827071",
     "exception": false,
     "start_time": "2024-11-30T06:17:22.809141",
     "status": "completed"
    },
    "tags": []
   },
   "outputs": [],
   "source": [
    "# # Define Logistic Regression with a solver that supports both 'l1' and 'l2' penalties\n",
    "# lr = LogisticRegression(max_iter=2000, class_weight='balanced', random_state=42, solver='saga', penalty='l1', C=0.01)\n",
    "\n",
    "# # Perform Recursive Feature Elimination (RFE)\n",
    "# rfe = RFE(estimator=lr, n_features_to_select=15)\n",
    "\n",
    "# # Fit and transform the training data using RFE\n",
    "# X_train_rfe = rfe.fit_transform(X_train_smote, y_train_smote)\n",
    "\n",
    "# # Transform the validation data\n",
    "# X_val_rfe = rfe.transform(X_val_processed)\n",
    "\n",
    "# # # Fit the GridSearchCV on the RFE-transformed training data\n",
    "# # # Define the parameter grid for Logistic Regression\n",
    "# # lr_param_grid = {\n",
    "# #     'penalty': ['l1', 'l2'],              # Regularization types\n",
    "# #     'C': [0.01, 0.1, 1, 10],             # Inverse regularization strength\n",
    "# #     'solver': ['saga'],                  # Saga supports both l1 and l2\n",
    "# #     'class_weight': ['balanced']         # Handle class imbalance\n",
    "# # }\n",
    "# # # Perform GridSearchCV for Logistic Regression\n",
    "# # lr_grid_search = GridSearchCV(estimator=lr, param_grid=lr_param_grid, cv=5, scoring='accuracy', n_jobs=-1)\n",
    "# lr.fit(X_train_rfe, y_train_smote)\n",
    "\n",
    "# # Make predictions on the validation data\n",
    "# lr_predictions = lr.predict(X_val_rfe)"
   ]
  },
  {
   "cell_type": "code",
   "execution_count": 30,
   "id": "0193a8d0",
   "metadata": {
    "execution": {
     "iopub.execute_input": "2024-11-30T06:17:22.846941Z",
     "iopub.status.busy": "2024-11-30T06:17:22.845959Z",
     "iopub.status.idle": "2024-11-30T06:17:22.851128Z",
     "shell.execute_reply": "2024-11-30T06:17:22.850148Z"
    },
    "papermill": {
     "duration": 0.017079,
     "end_time": "2024-11-30T06:17:22.853317",
     "exception": false,
     "start_time": "2024-11-30T06:17:22.836238",
     "status": "completed"
    },
    "tags": []
   },
   "outputs": [],
   "source": [
    "# # Define the KNeighborsClassifier\n",
    "# knn = KNeighborsClassifier(n_neighbors=3,weights='distance',metric='manhattan')\n",
    "\n",
    "# # Perform Recursive Feature Elimination (RFE)\n",
    "# # Note: KNN doesn't have built-in feature importance, so we use a Logistic Regression estimator for RFE\n",
    "# lr_for_rfe = LogisticRegression(max_iter=2000, class_weight='balanced', random_state=42, solver='saga')\n",
    "# rfe = RFE(estimator=lr_for_rfe, n_features_to_select=15)\n",
    "\n",
    "# # Fit and transform the training data using RFE\n",
    "# X_train_rfe = rfe.fit_transform(X_train_smote, y_train_smote)\n",
    "\n",
    "# # Transform the validation data\n",
    "# X_val_rfe = rfe.transform(X_val_processed)\n",
    "\n",
    "# # # Fit the GridSearchCV on the RFE-transformed training data\n",
    "# # # Define the parameter grid for KNeighborsClassifier\n",
    "# # knn_param_grid = {\n",
    "# #     'n_neighbors': [3, 5, 7, 9],             # Number of neighbors to consider\n",
    "# #     'weights': ['uniform', 'distance'],      # Weight function\n",
    "# #     'metric': ['euclidean', 'manhattan']     # Distance metrics\n",
    "# # }\n",
    "# # knn_grid_search = GridSearchCV(estimator=knn, param_grid=knn_param_grid, cv=5, scoring='accuracy', n_jobs=-1)\n",
    "# knn.fit(X_train_rfe, y_train_smote)\n",
    "\n",
    "# # Make predictions on the validation data\n",
    "# knn_predictions = knn.predict(X_val_rfe)"
   ]
  },
  {
   "cell_type": "code",
   "execution_count": 31,
   "id": "604db414",
   "metadata": {
    "execution": {
     "iopub.execute_input": "2024-11-30T06:17:22.872766Z",
     "iopub.status.busy": "2024-11-30T06:17:22.872081Z",
     "iopub.status.idle": "2024-11-30T06:17:22.877168Z",
     "shell.execute_reply": "2024-11-30T06:17:22.876028Z"
    },
    "papermill": {
     "duration": 0.016848,
     "end_time": "2024-11-30T06:17:22.879218",
     "exception": false,
     "start_time": "2024-11-30T06:17:22.862370",
     "status": "completed"
    },
    "tags": []
   },
   "outputs": [],
   "source": [
    "# # Function to plot a confusion matrix\n",
    "# def plot_confusion_matrix(cm, title):\n",
    "#     plt.figure(figsize=(6, 4))\n",
    "#     sns.heatmap(cm, annot=True, fmt=\"d\", cmap=\"Blues\", xticklabels=['No', 'Yes'], yticklabels=['No', 'Yes'])\n",
    "#     plt.xlabel('Predicted Label')\n",
    "#     plt.ylabel('True Label')\n",
    "#     plt.title(title)\n",
    "#     plt.show()\n",
    "\n",
    "# # Confusion Matrix and Classification Report for Random Forest\n",
    "# rf_cm = confusion_matrix(y_val, rf_predictions)\n",
    "# plot_confusion_matrix(rf_cm, \"Confusion Matrix - Random Forest\")\n",
    "# print(\"Classification Report - Random Forest:\")\n",
    "# print(classification_report(y_val, rf_predictions, target_names=['No', 'Yes']))\n",
    "\n",
    "# # Confusion Matrix and Classification Report for Logistic Regression\n",
    "# lr_cm = confusion_matrix(y_val, lr_predictions)\n",
    "# plot_confusion_matrix(lr_cm, \"Confusion Matrix - Logistic Regression\")\n",
    "# print(\"Classification Report - Logistic Regression:\")\n",
    "# print(classification_report(y_val, lr_predictions, target_names=['No', 'Yes']))\n",
    "\n",
    "# # Confusion Matrix and Classification Report for KNN\n",
    "# knn_cm = confusion_matrix(y_val, knn_predictions)\n",
    "# plot_confusion_matrix(knn_cm, \"Confusion Matrix - KNN\")\n",
    "# print(\"Classification Report - KNN:\")\n",
    "# print(classification_report(y_val, knn_predictions, target_names=['No', 'Yes']))"
   ]
  },
  {
   "cell_type": "markdown",
   "id": "f285f7da",
   "metadata": {
    "papermill": {
     "duration": 0.008267,
     "end_time": "2024-11-30T06:17:22.896120",
     "exception": false,
     "start_time": "2024-11-30T06:17:22.887853",
     "status": "completed"
    },
    "tags": []
   },
   "source": [
    "# Inferences\n",
    "\n",
    "1) Overall Performance Across Models:\n",
    "    - Random Forest achieves the highest accuracy (85%) among the three models.\n",
    "    - Logistic Regression has a slightly lower accuracy (79%), while KNN achieves 81%.\n",
    "    - In terms of weighted average F1-score, Random Forest is the best (0.87), followed by Logistic Regression (0.81) and KNN (0.82).\n",
    "\n",
    "2) Class-Specific Performance:\n",
    "    - Class 0 (\"No\"): All three models perform well for the majority class (No), with Random Forest achieving the best precision (96%) and F1-score (0.91).\n",
    "    - Class 1 (\"Yes\"): Random Forest performs best for the minority class (Yes), with a recall of 79% and F1-score of 0.62.\n",
    "\n",
    "3) Class Imbalance Effects:\n",
    "    - All three models favor the majority class (No), as seen from their higher precision, recall, and F1-scores for this class.\n",
    "    - Random Forest appears to handle class imbalance better than the others, as it maintains a higher recall (80%) for the minority class."
   ]
  },
  {
   "cell_type": "markdown",
   "id": "d2a30ed7",
   "metadata": {
    "papermill": {
     "duration": 0.008527,
     "end_time": "2024-11-30T06:17:22.913176",
     "exception": false,
     "start_time": "2024-11-30T06:17:22.904649",
     "status": "completed"
    },
    "tags": []
   },
   "source": [
    "## Model Development"
   ]
  },
  {
   "cell_type": "code",
   "execution_count": 32,
   "id": "9d40bdf7",
   "metadata": {
    "execution": {
     "iopub.execute_input": "2024-11-30T06:17:22.933520Z",
     "iopub.status.busy": "2024-11-30T06:17:22.933139Z",
     "iopub.status.idle": "2024-11-30T06:17:28.105910Z",
     "shell.execute_reply": "2024-11-30T06:17:28.104582Z"
    },
    "papermill": {
     "duration": 5.188044,
     "end_time": "2024-11-30T06:17:28.109766",
     "exception": false,
     "start_time": "2024-11-30T06:17:22.921722",
     "status": "completed"
    },
    "tags": []
   },
   "outputs": [],
   "source": [
    "X_train_processed = preprocessor.fit_transform(X)\n",
    "X_test_processed = preprocessor.transform(test)"
   ]
  },
  {
   "cell_type": "code",
   "execution_count": 33,
   "id": "0b25328c",
   "metadata": {
    "execution": {
     "iopub.execute_input": "2024-11-30T06:17:28.164722Z",
     "iopub.status.busy": "2024-11-30T06:17:28.164115Z",
     "iopub.status.idle": "2024-11-30T06:17:39.729291Z",
     "shell.execute_reply": "2024-11-30T06:17:39.728162Z"
    },
    "papermill": {
     "duration": 11.595974,
     "end_time": "2024-11-30T06:17:39.731745",
     "exception": false,
     "start_time": "2024-11-30T06:17:28.135771",
     "status": "completed"
    },
    "tags": []
   },
   "outputs": [],
   "source": [
    "# Apply SMOTE to balance the class distribution\n",
    "smote = SMOTEENN(random_state=42)\n",
    "X_train_smote, y_train_smote = smote.fit_resample(X_train_processed, y)"
   ]
  },
  {
   "cell_type": "markdown",
   "id": "365c2dc5",
   "metadata": {
    "papermill": {
     "duration": 0.008438,
     "end_time": "2024-11-30T06:17:39.749118",
     "exception": false,
     "start_time": "2024-11-30T06:17:39.740680",
     "status": "completed"
    },
    "tags": []
   },
   "source": [
    "### Random Forest Classifier"
   ]
  },
  {
   "cell_type": "code",
   "execution_count": 34,
   "id": "b7f8059d",
   "metadata": {
    "execution": {
     "iopub.execute_input": "2024-11-30T06:17:39.769004Z",
     "iopub.status.busy": "2024-11-30T06:17:39.768624Z",
     "iopub.status.idle": "2024-11-30T06:19:19.711629Z",
     "shell.execute_reply": "2024-11-30T06:19:19.710769Z"
    },
    "papermill": {
     "duration": 99.956955,
     "end_time": "2024-11-30T06:19:19.714633",
     "exception": false,
     "start_time": "2024-11-30T06:17:39.757678",
     "status": "completed"
    },
    "tags": []
   },
   "outputs": [],
   "source": [
    "# Define the RandomForestClassifier with class_weight='balanced'\n",
    "rf_balanced = RandomForestClassifier(\n",
    "    n_estimators=200,         # Number of trees\n",
    "    class_weight='balanced',  # Handle class imbalance\n",
    "    random_state=42,          # Reproducibility\n",
    "    max_depth=15,             # Limit the depth of each tree (regularization)\n",
    ")\n",
    "\n",
    "# Perform Recursive Feature Elimination (RFE)\n",
    "rfe = RFE(estimator=rf_balanced, n_features_to_select=15)\n",
    "\n",
    "# Fit and transform the training data\n",
    "X_train_rfe = rfe.fit_transform(X_train_smote, y_train_smote)\n",
    "\n",
    "# Transform the validation data\n",
    "X_test_rfe = rfe.transform(X_test_processed)\n",
    "\n",
    "# Wrap Random Forest with AdaBoost\n",
    "ada_rf = AdaBoostClassifier(\n",
    "    base_estimator=rf_balanced,  # Use the Random Forest model\n",
    "    n_estimators=250,            # Number of boosting stages\n",
    "    learning_rate=0.1,          # Controls the contribution of each model\n",
    "    random_state=42\n",
    ")"
   ]
  },
  {
   "cell_type": "code",
   "execution_count": 35,
   "id": "16483d63",
   "metadata": {
    "execution": {
     "iopub.execute_input": "2024-11-30T06:19:19.735930Z",
     "iopub.status.busy": "2024-11-30T06:19:19.735184Z",
     "iopub.status.idle": "2024-11-30T06:36:55.954607Z",
     "shell.execute_reply": "2024-11-30T06:36:55.953752Z"
    },
    "papermill": {
     "duration": 1056.23269,
     "end_time": "2024-11-30T06:36:55.957242",
     "exception": false,
     "start_time": "2024-11-30T06:19:19.724552",
     "status": "completed"
    },
    "tags": []
   },
   "outputs": [
    {
     "name": "stderr",
     "output_type": "stream",
     "text": [
      "/opt/conda/lib/python3.10/site-packages/sklearn/ensemble/_base.py:166: FutureWarning: `base_estimator` was renamed to `estimator` in version 1.2 and will be removed in 1.4.\n",
      "  warnings.warn(\n"
     ]
    }
   ],
   "source": [
    "# Fit the model with the reduced features and data subset\n",
    "ada_rf.fit(X_train_rfe, y_train_smote)\n",
    "test_predictions = ada_rf.predict(X_test_rfe)"
   ]
  },
  {
   "cell_type": "markdown",
   "id": "bdb9812b",
   "metadata": {
    "papermill": {
     "duration": 0.008378,
     "end_time": "2024-11-30T06:36:55.974939",
     "exception": false,
     "start_time": "2024-11-30T06:36:55.966561",
     "status": "completed"
    },
    "tags": []
   },
   "source": [
    "### Logistic Regression"
   ]
  },
  {
   "cell_type": "code",
   "execution_count": 36,
   "id": "228bea0d",
   "metadata": {
    "execution": {
     "iopub.execute_input": "2024-11-30T06:36:55.994952Z",
     "iopub.status.busy": "2024-11-30T06:36:55.994561Z",
     "iopub.status.idle": "2024-11-30T06:36:55.999575Z",
     "shell.execute_reply": "2024-11-30T06:36:55.998510Z"
    },
    "papermill": {
     "duration": 0.01733,
     "end_time": "2024-11-30T06:36:56.001557",
     "exception": false,
     "start_time": "2024-11-30T06:36:55.984227",
     "status": "completed"
    },
    "tags": []
   },
   "outputs": [],
   "source": [
    "# # Define Logistic Regression with a solver that supports both 'l1' and 'l2' penalties\n",
    "# lr = LogisticRegression(max_iter=2000, class_weight='balanced', random_state=42, solver='saga', penalty='l1', C=0.01)\n",
    "\n",
    "\n",
    "# # Perform Recursive Feature Elimination (RFE)\n",
    "# rfe = RFE(estimator=lr, n_features_to_select=15)\n",
    "\n",
    "# # Fit and transform the training data using RFE\n",
    "# X_train_rfe = rfe.fit_transform(X_train_smote, y_train_smote)\n",
    "\n",
    "# # Transform the validation data\n",
    "# X_test_rfe = rfe.transform(X_test_processed)\n",
    "\n",
    "# # Fit the GridSearchCV on the RFE-transformed training data\n",
    "# lr.fit(X_train_rfe, y_train_smote)\n",
    "\n",
    "# # Make predictions on the validation data\n",
    "# test_predictions = lr.predict(X_test_rfe)"
   ]
  },
  {
   "cell_type": "markdown",
   "id": "ea3e370d",
   "metadata": {
    "papermill": {
     "duration": 0.00901,
     "end_time": "2024-11-30T06:36:56.019765",
     "exception": false,
     "start_time": "2024-11-30T06:36:56.010755",
     "status": "completed"
    },
    "tags": []
   },
   "source": [
    "### K Nearest Neighbours"
   ]
  },
  {
   "cell_type": "code",
   "execution_count": 37,
   "id": "1505e786",
   "metadata": {
    "execution": {
     "iopub.execute_input": "2024-11-30T06:36:56.039178Z",
     "iopub.status.busy": "2024-11-30T06:36:56.038505Z",
     "iopub.status.idle": "2024-11-30T06:36:56.043895Z",
     "shell.execute_reply": "2024-11-30T06:36:56.042860Z"
    },
    "papermill": {
     "duration": 0.017424,
     "end_time": "2024-11-30T06:36:56.045812",
     "exception": false,
     "start_time": "2024-11-30T06:36:56.028388",
     "status": "completed"
    },
    "tags": []
   },
   "outputs": [],
   "source": [
    "# # Define the KNeighborsClassifier\n",
    "# knn = KNeighborsClassifier(n_neighbors=3,weights='distance',metric='manhattan')\n",
    "\n",
    "# # Perform Recursive Feature Elimination (RFE)\n",
    "# # Note: KNN doesn't have built-in feature importance, so we use a Logistic Regression estimator for RFE\n",
    "# lr_for_rfe = LogisticRegression(max_iter=2000, class_weight='balanced', random_state=42, solver='saga')\n",
    "# rfe = RFE(estimator=lr_for_rfe, n_features_to_select=15)\n",
    "\n",
    "# # Fit and transform the training data using RFE\n",
    "# X_train_rfe = rfe.fit_transform(X_train_smote, y_train_smote)\n",
    "\n",
    "# # Transform the validation data\n",
    "# X_test_rfe = rfe.transform(X_test_processed)\n",
    "\n",
    "# # Fit the GridSearchCV on the RFE-transformed training data\n",
    "# knn.fit(X_train_rfe, y_train_smote)\n",
    "\n",
    "# # Make predictions on the validation data\n",
    "# test_predictions = knn.predict(X_test_rfe)"
   ]
  },
  {
   "cell_type": "markdown",
   "id": "8585a3ab",
   "metadata": {
    "papermill": {
     "duration": 0.008242,
     "end_time": "2024-11-30T06:36:56.062581",
     "exception": false,
     "start_time": "2024-11-30T06:36:56.054339",
     "status": "completed"
    },
    "tags": []
   },
   "source": [
    "# Submission"
   ]
  },
  {
   "cell_type": "code",
   "execution_count": 38,
   "id": "ef808920",
   "metadata": {
    "execution": {
     "iopub.execute_input": "2024-11-30T06:36:56.081771Z",
     "iopub.status.busy": "2024-11-30T06:36:56.080568Z",
     "iopub.status.idle": "2024-11-30T06:36:56.100292Z",
     "shell.execute_reply": "2024-11-30T06:36:56.099265Z"
    },
    "papermill": {
     "duration": 0.031607,
     "end_time": "2024-11-30T06:36:56.102502",
     "exception": false,
     "start_time": "2024-11-30T06:36:56.070895",
     "status": "completed"
    },
    "tags": []
   },
   "outputs": [],
   "source": [
    "# Map predictions to original labels\n",
    "inverse_target_mapping = {1: 'yes', 0: 'no'}\n",
    "test_predictions_mapped = pd.Series(test_predictions).map(inverse_target_mapping)\n",
    "\n",
    "# Prepare submission\n",
    "submission_df = pd.DataFrame({\n",
    "    'id': test.index,\n",
    "    'target': test_predictions_mapped\n",
    "})\n",
    "submission_df.to_csv('submission.csv', index=False)"
   ]
  }
 ],
 "metadata": {
  "kaggle": {
   "accelerator": "none",
   "dataSources": [
    {
     "databundleVersionId": 9578279,
     "sourceId": 85062,
     "sourceType": "competition"
    }
   ],
   "dockerImageVersionId": 30775,
   "isGpuEnabled": false,
   "isInternetEnabled": false,
   "language": "python",
   "sourceType": "notebook"
  },
  "kernelspec": {
   "display_name": "Python 3",
   "language": "python",
   "name": "python3"
  },
  "language_info": {
   "codemirror_mode": {
    "name": "ipython",
    "version": 3
   },
   "file_extension": ".py",
   "mimetype": "text/x-python",
   "name": "python",
   "nbconvert_exporter": "python",
   "pygments_lexer": "ipython3",
   "version": "3.10.14"
  },
  "papermill": {
   "default_parameters": {},
   "duration": 1181.513152,
   "end_time": "2024-11-30T06:36:57.133378",
   "environment_variables": {},
   "exception": null,
   "input_path": "__notebook__.ipynb",
   "output_path": "__notebook__.ipynb",
   "parameters": {},
   "start_time": "2024-11-30T06:17:15.620226",
   "version": "2.6.0"
  }
 },
 "nbformat": 4,
 "nbformat_minor": 5
}
